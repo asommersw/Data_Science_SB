{
 "cells": [
  {
   "cell_type": "markdown",
   "metadata": {},
   "source": [
    "****\n",
    "## JSON exercise\n",
    "\n",
    "\n",
    "1. Find the 10 countries with most projects\n",
    "2. Find the top 10 major project themes (using column 'mjtheme_namecode')\n",
    "3. In 2. above you will notice that some entries have only the code and the name is missing. Create a dataframe with the missing names filled in."
   ]
  },
  {
   "cell_type": "code",
   "execution_count": 59,
   "metadata": {
    "collapsed": true
   },
   "outputs": [],
   "source": [
    "import pandas as pd\n",
    "import numpy as np"
   ]
  },
  {
   "cell_type": "code",
   "execution_count": 60,
   "metadata": {
    "collapsed": true
   },
   "outputs": [],
   "source": [
    "import json\n",
    "from pandas.io.json import json_normalize"
   ]
  },
  {
   "cell_type": "code",
   "execution_count": 61,
   "metadata": {
    "collapsed": true
   },
   "outputs": [],
   "source": [
    "#Opens the json file as a pandas dataframe\n",
    "normal = pd.read_json(\"data/world_bank_projects.json\",orient='columns' )"
   ]
  },
  {
   "cell_type": "code",
   "execution_count": 62,
   "metadata": {
    "collapsed": true
   },
   "outputs": [],
   "source": [
    "# Groups and counts each country\n",
    "country = normal[['countryshortname', 'mjtheme_namecode', 'project_name']].set_index(['countryshortname']).sort_index()\n",
    "project_count = country.groupby('countryshortname').count()"
   ]
  },
  {
   "cell_type": "code",
   "execution_count": 63,
   "metadata": {},
   "outputs": [
    {
     "data": {
      "text/html": [
       "<div>\n",
       "<style>\n",
       "    .dataframe thead tr:only-child th {\n",
       "        text-align: right;\n",
       "    }\n",
       "\n",
       "    .dataframe thead th {\n",
       "        text-align: left;\n",
       "    }\n",
       "\n",
       "    .dataframe tbody tr th {\n",
       "        vertical-align: top;\n",
       "    }\n",
       "</style>\n",
       "<table border=\"1\" class=\"dataframe\">\n",
       "  <thead>\n",
       "    <tr style=\"text-align: right;\">\n",
       "      <th></th>\n",
       "      <th>mjtheme_namecode</th>\n",
       "      <th>project_name</th>\n",
       "    </tr>\n",
       "    <tr>\n",
       "      <th>countryshortname</th>\n",
       "      <th></th>\n",
       "      <th></th>\n",
       "    </tr>\n",
       "  </thead>\n",
       "  <tbody>\n",
       "    <tr>\n",
       "      <th>China</th>\n",
       "      <td>19</td>\n",
       "      <td>19</td>\n",
       "    </tr>\n",
       "    <tr>\n",
       "      <th>Indonesia</th>\n",
       "      <td>19</td>\n",
       "      <td>19</td>\n",
       "    </tr>\n",
       "    <tr>\n",
       "      <th>Vietnam</th>\n",
       "      <td>17</td>\n",
       "      <td>17</td>\n",
       "    </tr>\n",
       "    <tr>\n",
       "      <th>India</th>\n",
       "      <td>16</td>\n",
       "      <td>16</td>\n",
       "    </tr>\n",
       "    <tr>\n",
       "      <th>Yemen, Republic of</th>\n",
       "      <td>13</td>\n",
       "      <td>13</td>\n",
       "    </tr>\n",
       "    <tr>\n",
       "      <th>Nepal</th>\n",
       "      <td>12</td>\n",
       "      <td>12</td>\n",
       "    </tr>\n",
       "    <tr>\n",
       "      <th>Bangladesh</th>\n",
       "      <td>12</td>\n",
       "      <td>12</td>\n",
       "    </tr>\n",
       "    <tr>\n",
       "      <th>Morocco</th>\n",
       "      <td>12</td>\n",
       "      <td>12</td>\n",
       "    </tr>\n",
       "    <tr>\n",
       "      <th>Mozambique</th>\n",
       "      <td>11</td>\n",
       "      <td>11</td>\n",
       "    </tr>\n",
       "    <tr>\n",
       "      <th>Africa</th>\n",
       "      <td>11</td>\n",
       "      <td>11</td>\n",
       "    </tr>\n",
       "  </tbody>\n",
       "</table>\n",
       "</div>"
      ],
      "text/plain": [
       "                    mjtheme_namecode  project_name\n",
       "countryshortname                                  \n",
       "China                             19            19\n",
       "Indonesia                         19            19\n",
       "Vietnam                           17            17\n",
       "India                             16            16\n",
       "Yemen, Republic of                13            13\n",
       "Nepal                             12            12\n",
       "Bangladesh                        12            12\n",
       "Morocco                           12            12\n",
       "Mozambique                        11            11\n",
       "Africa                            11            11"
      ]
     },
     "execution_count": 63,
     "metadata": {},
     "output_type": "execute_result"
    }
   ],
   "source": [
    "#The countries with the Top 10 projects sorted by the counts of each protect. \n",
    "project_count.sort_values('mjtheme_namecode', ascending=False).head(10)"
   ]
  },
  {
   "cell_type": "code",
   "execution_count": 64,
   "metadata": {
    "collapsed": true
   },
   "outputs": [],
   "source": [
    "#This loads the json file and converts it to a normalized pandas datafame\n",
    "data = json.load((open('data/world_bank_projects.json')))\n",
    "project_json_df = json_normalize(data, 'mjtheme_namecode', 'countryshortname')"
   ]
  },
  {
   "cell_type": "code",
   "execution_count": 65,
   "metadata": {},
   "outputs": [
    {
     "name": "stdout",
     "output_type": "stream",
     "text": [
      "      name  countryshortname\n",
      "code                        \n",
      "11     250               250\n",
      "10     216               216\n",
      "8      210               210\n",
      "2      199               199\n",
      "6      168               168\n",
      "4      146               146\n",
      "7      130               130\n",
      "5       77                77\n",
      "9       50                50\n",
      "1       38                38\n",
      "                                                   countryshortname\n",
      "code name                                                          \n",
      "11   Environment and natural resources management               223\n",
      "10   Rural development                                          202\n",
      "8    Human development                                          197\n",
      "2    Public sector governance                                   184\n",
      "6    Social protection and risk management                      158\n",
      "4    Financial and private sector development                   130\n",
      "7    Social dev/gender/inclusion                                119\n",
      "5    Trade and integration                                       72\n",
      "9    Urban development                                           47\n",
      "1    Economic management                                         33\n"
     ]
    }
   ],
   "source": [
    "\"\"\"Grouping the dataframe by code, which is the key that defines each project theme, and counting and sorting them \n",
    "tells what the top 10 project themes are.\"\"\"\n",
    "print(project_json_df.groupby('code').count().sort_values('name', ascending=False).head(10))\n",
    "print(project_json_df.groupby(['code', 'name']).count().sort_values('countryshortname', ascending=False).head(10))"
   ]
  },
  {
   "cell_type": "code",
   "execution_count": 66,
   "metadata": {},
   "outputs": [
    {
     "name": "stdout",
     "output_type": "stream",
     "text": [
      "<class 'pandas.core.frame.DataFrame'>\n",
      "RangeIndex: 1499 entries, 0 to 1498\n",
      "Data columns (total 3 columns):\n",
      "code                1499 non-null object\n",
      "name                1499 non-null object\n",
      "countryshortname    1499 non-null object\n",
      "dtypes: object(3)\n",
      "memory usage: 35.2+ KB\n"
     ]
    }
   ],
   "source": [
    "#Check for any missing objects in the dataframe\n",
    "project_json_df.info()"
   ]
  },
  {
   "cell_type": "code",
   "execution_count": 67,
   "metadata": {},
   "outputs": [
    {
     "name": "stdout",
     "output_type": "stream",
     "text": [
      "code                122\n",
      "name                122\n",
      "countryshortname    122\n",
      "dtype: int64\n"
     ]
    }
   ],
   "source": [
    "#Finds the missing data in the of the names of the different themes and counts them.\n",
    "print(project_json_df[project_json_df.name==''].count())"
   ]
  },
  {
   "cell_type": "code",
   "execution_count": 68,
   "metadata": {
    "collapsed": true
   },
   "outputs": [],
   "source": [
    "#Changes the missing data from a string to a null object\n",
    "project_json_df.name[project_json_df.name == ''] = np.nan"
   ]
  },
  {
   "cell_type": "code",
   "execution_count": 69,
   "metadata": {},
   "outputs": [
    {
     "name": "stdout",
     "output_type": "stream",
     "text": [
      "<class 'pandas.core.frame.DataFrame'>\n",
      "RangeIndex: 1499 entries, 0 to 1498\n",
      "Data columns (total 3 columns):\n",
      "code                1499 non-null object\n",
      "name                1377 non-null object\n",
      "countryshortname    1499 non-null object\n",
      "dtypes: object(3)\n",
      "memory usage: 35.2+ KB\n"
     ]
    }
   ],
   "source": [
    "#Check again for any missing objects in the dataframe. Equals the same count as the blank strings\n",
    "project_json_df.info()"
   ]
  },
  {
   "cell_type": "code",
   "execution_count": 70,
   "metadata": {},
   "outputs": [],
   "source": [
    "#Fills in mssing data correctly\n",
    "project_json_df.loc[project_json_df.code == '1', 'name'] = 'Economic management'\n",
    "project_json_df.loc[project_json_df.code == '2', 'name'] = 'Public sector governance'\n",
    "project_json_df.loc[project_json_df.code == '3', 'name'] = 'Rule of law'\n",
    "project_json_df.loc[project_json_df.code == '4', 'name'] = 'Financial and private sector development'\n",
    "project_json_df.loc[project_json_df.code == '5', 'name'] = 'Trade and integration'\n",
    "project_json_df.loc[project_json_df.code == '6', 'name'] = 'Social protection and risk management'\n",
    "project_json_df.loc[project_json_df.code == '7', 'name'] = 'Social dev/gender/inclusion'\n",
    "project_json_df.loc[project_json_df.code == '8', 'name'] = 'Human development'\n",
    "project_json_df.loc[project_json_df.code == '9', 'name'] = 'Urban development'\n",
    "project_json_df.loc[project_json_df.code == '10', 'name'] = 'Rural development'\n",
    "project_json_df.loc[project_json_df.code == '11', 'name'] = 'Environment and natural resources management'"
   ]
  },
  {
   "cell_type": "code",
   "execution_count": 71,
   "metadata": {},
   "outputs": [
    {
     "name": "stdout",
     "output_type": "stream",
     "text": [
      "<class 'pandas.core.frame.DataFrame'>\n",
      "RangeIndex: 1499 entries, 0 to 1498\n",
      "Data columns (total 3 columns):\n",
      "code                1499 non-null object\n",
      "name                1499 non-null object\n",
      "countryshortname    1499 non-null object\n",
      "dtypes: object(3)\n",
      "memory usage: 35.2+ KB\n"
     ]
    }
   ],
   "source": [
    "#Fills in the missing data in a new dataframe and checks if it has worked\n",
    "df_filled = project_json_df.fillna(method='backfill')\n",
    "df_filled.info()"
   ]
  },
  {
   "cell_type": "code",
   "execution_count": 76,
   "metadata": {},
   "outputs": [
    {
     "data": {
      "text/html": [
       "<div>\n",
       "<style>\n",
       "    .dataframe thead tr:only-child th {\n",
       "        text-align: right;\n",
       "    }\n",
       "\n",
       "    .dataframe thead th {\n",
       "        text-align: left;\n",
       "    }\n",
       "\n",
       "    .dataframe tbody tr th {\n",
       "        vertical-align: top;\n",
       "    }\n",
       "</style>\n",
       "<table border=\"1\" class=\"dataframe\">\n",
       "  <thead>\n",
       "    <tr style=\"text-align: right;\">\n",
       "      <th></th>\n",
       "      <th>code</th>\n",
       "      <th>name</th>\n",
       "      <th>countryshortname</th>\n",
       "    </tr>\n",
       "  </thead>\n",
       "  <tbody>\n",
       "    <tr>\n",
       "      <th>0</th>\n",
       "      <td>8</td>\n",
       "      <td>Human development</td>\n",
       "      <td>Ethiopia</td>\n",
       "    </tr>\n",
       "    <tr>\n",
       "      <th>1</th>\n",
       "      <td>11</td>\n",
       "      <td>Environment and natural resources management</td>\n",
       "      <td>Ethiopia</td>\n",
       "    </tr>\n",
       "    <tr>\n",
       "      <th>2</th>\n",
       "      <td>1</td>\n",
       "      <td>Economic management</td>\n",
       "      <td>Tunisia</td>\n",
       "    </tr>\n",
       "    <tr>\n",
       "      <th>3</th>\n",
       "      <td>6</td>\n",
       "      <td>Social protection and risk management</td>\n",
       "      <td>Tunisia</td>\n",
       "    </tr>\n",
       "    <tr>\n",
       "      <th>4</th>\n",
       "      <td>5</td>\n",
       "      <td>Trade and integration</td>\n",
       "      <td>Tuvalu</td>\n",
       "    </tr>\n",
       "    <tr>\n",
       "      <th>5</th>\n",
       "      <td>2</td>\n",
       "      <td>Public sector governance</td>\n",
       "      <td>Tuvalu</td>\n",
       "    </tr>\n",
       "    <tr>\n",
       "      <th>6</th>\n",
       "      <td>11</td>\n",
       "      <td>Environment and natural resources management</td>\n",
       "      <td>Tuvalu</td>\n",
       "    </tr>\n",
       "    <tr>\n",
       "      <th>7</th>\n",
       "      <td>6</td>\n",
       "      <td>Social protection and risk management</td>\n",
       "      <td>Tuvalu</td>\n",
       "    </tr>\n",
       "    <tr>\n",
       "      <th>8</th>\n",
       "      <td>7</td>\n",
       "      <td>Social dev/gender/inclusion</td>\n",
       "      <td>Yemen, Republic of</td>\n",
       "    </tr>\n",
       "    <tr>\n",
       "      <th>9</th>\n",
       "      <td>7</td>\n",
       "      <td>Social dev/gender/inclusion</td>\n",
       "      <td>Yemen, Republic of</td>\n",
       "    </tr>\n",
       "  </tbody>\n",
       "</table>\n",
       "</div>"
      ],
      "text/plain": [
       "  code                                          name    countryshortname\n",
       "0    8                             Human development            Ethiopia\n",
       "1   11  Environment and natural resources management            Ethiopia\n",
       "2    1                           Economic management             Tunisia\n",
       "3    6         Social protection and risk management             Tunisia\n",
       "4    5                         Trade and integration              Tuvalu\n",
       "5    2                      Public sector governance              Tuvalu\n",
       "6   11  Environment and natural resources management              Tuvalu\n",
       "7    6         Social protection and risk management              Tuvalu\n",
       "8    7                   Social dev/gender/inclusion  Yemen, Republic of\n",
       "9    7                   Social dev/gender/inclusion  Yemen, Republic of"
      ]
     },
     "execution_count": 76,
     "metadata": {},
     "output_type": "execute_result"
    }
   ],
   "source": [
    "df_filled.head(10)"
   ]
  },
  {
   "cell_type": "code",
   "execution_count": 74,
   "metadata": {},
   "outputs": [
    {
     "name": "stdout",
     "output_type": "stream",
     "text": [
      "      name  countryshortname\n",
      "code                        \n",
      "11     250               250\n",
      "10     216               216\n",
      "8      210               210\n",
      "2      199               199\n",
      "6      168               168\n",
      "4      146               146\n",
      "7      130               130\n",
      "5       77                77\n",
      "9       50                50\n",
      "1       38                38\n",
      "                                                   countryshortname\n",
      "code name                                                          \n",
      "11   Environment and natural resources management               250\n",
      "10   Rural development                                          216\n",
      "8    Human development                                          210\n",
      "2    Public sector governance                                   199\n",
      "6    Social protection and risk management                      168\n",
      "4    Financial and private sector development                   146\n",
      "7    Social dev/gender/inclusion                                130\n",
      "5    Trade and integration                                       77\n",
      "9    Urban development                                           50\n",
      "1    Economic management                                         38\n"
     ]
    }
   ],
   "source": [
    "print(df_filled.groupby('code').count().sort_values('name', ascending=False).head(10))\n",
    "print(df_filled.groupby(['code', 'name']).count().sort_values('countryshortname', ascending=False).head(10))"
   ]
  },
  {
   "cell_type": "code",
   "execution_count": null,
   "metadata": {
    "collapsed": true
   },
   "outputs": [],
   "source": []
  }
 ],
 "metadata": {
  "kernelspec": {
   "display_name": "Python 3",
   "language": "python",
   "name": "python3"
  },
  "language_info": {
   "codemirror_mode": {
    "name": "ipython",
    "version": 3
   },
   "file_extension": ".py",
   "mimetype": "text/x-python",
   "name": "python",
   "nbconvert_exporter": "python",
   "pygments_lexer": "ipython3",
   "version": "3.6.2"
  }
 },
 "nbformat": 4,
 "nbformat_minor": 1
}
